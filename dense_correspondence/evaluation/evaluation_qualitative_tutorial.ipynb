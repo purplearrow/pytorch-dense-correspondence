{
 "cells": [
  {
   "cell_type": "markdown",
   "metadata": {},
   "source": [
    "## Qualitative Evaluation Example"
   ]
  },
  {
   "cell_type": "code",
   "execution_count": null,
   "metadata": {},
   "outputs": [],
   "source": [
    "%matplotlib inline\n",
    "\n",
    "import random\n",
    "import numpy as np\n",
    "import matplotlib.pyplot as plt\n",
    "import os\n",
    "import cv2\n",
    "import torch\n",
    "import dense_correspondence_manipulation.utils.utils as utils\n",
    "utils.add_dense_correspondence_to_python_path()\n",
    "\n",
    "import dense_correspondence\n",
    "from dense_correspondence.evaluation.evaluation import *\n",
    "import dense_correspondence.correspondence_tools.correspondence_plotter as correspondence_plotter\n",
    "from dense_correspondence.dataset.dense_correspondence_dataset_masked import ImageType"
   ]
  },
  {
   "cell_type": "code",
   "execution_count": null,
   "metadata": {},
   "outputs": [],
   "source": [
    "%%javascript\n",
    "IPython.OutputArea.auto_scroll_threshold = 9999;"
   ]
  },
  {
   "cell_type": "code",
   "execution_count": null,
   "metadata": {},
   "outputs": [],
   "source": [
    "config_filename = os.path.join(utils.getDenseCorrespondenceSourceDir(), 'config', \n",
    "                               'dense_correspondence', 'evaluation', 'evaluation.yaml')\n",
    "config = utils.getDictFromYamlFilename(config_filename)\n",
    "default_config = utils.get_defaults_config()\n",
    "\n",
    "# utils.set_cuda_visible_devices([0])\n",
    "dce = DenseCorrespondenceEvaluation(config)\n",
    "DCE = DenseCorrespondenceEvaluation\n",
    "\n",
    "network_name = \"robot_box_3\"\n",
    "dcn = dce.load_network_from_config(network_name)\n",
    "dataset = dcn.load_training_dataset()\n",
    "DenseCorrespondenceEvaluation.evaluate_network_qualitative(dcn, dataset=dataset, randomize=True)"
   ]
  },
  {
   "cell_type": "code",
   "execution_count": null,
   "metadata": {},
   "outputs": [],
   "source": [
    "def test(dataset, scene_name, dcn, output_feature_map_folder):\n",
    "    #create directory\n",
    "    scene_feature_map_dir = os.path.join(output_feature_map_folder, scene_name)\n",
    "    if not os.path.exists(scene_feature_map_dir):\n",
    "        os.mkdir(scene_feature_map_dir)\n",
    "    img_a_idx = 7\n",
    "    rgb_a = dataset.get_rgb_image_from_scene_name_and_idx(scene_name, img_a_idx)\n",
    "    #print (rgb_a)\n",
    "    rgb_a_tensor = dataset.rgb_image_to_tensor(rgb_a)\n",
    "    res_a = dcn.forward_single_image_tensor(rgb_a_tensor).data.cpu().numpy()\n",
    "    print (res_a.shape)\n",
    "    #print (res_a.dtype)\n",
    "\n",
    "    feature_map_filename = os.path.join(scene_feature_map_dir, str(img_a_idx)+'_feature.npy')\n",
    "    np.save(feature_map_filename, res_a)\n",
    "    #print (feature_map_filename)\n",
    "        \n",
    "scene_name = \"2018-11-07-17-29-42\"\n",
    "output_feature_map_folder = \"/home/purplearrow/code/data_volume/pdc/feature_maps\"\n",
    "# please make sure this folder is created\n",
    "\n",
    "test(dataset, scene_name, dcn, output_feature_map_folder)"
   ]
  },
  {
   "cell_type": "code",
   "execution_count": null,
   "metadata": {},
   "outputs": [],
   "source": [
    "def generate_feature_and_save(dataset, scene_name, dcn, output_feature_map_folder):\n",
    "    \"\"\" given scene_name and dataset, generate feature map use dcn and save to folder\n",
    "    \"\"\"\n",
    "    #create directory\n",
    "    scene_feature_map_dir = os.path.join(output_feature_map_folder, scene_name)\n",
    "    if not os.path.exists(scene_feature_map_dir):\n",
    "        os.mkdir(scene_feature_map_dir)\n",
    "    for img_a_idx in dataset.get_pose_data(scene_name).keys():\n",
    "        rgb_a, _, mask_a, _ = dataset.get_rgbd_mask_pose(scene_name, img_a_idx)\n",
    "        #mask_a = np.asarray(mask_a)\n",
    "        rgb_a_tensor = dataset.rgb_image_to_tensor(rgb_a)\n",
    "        res_a = dcn.forward_single_image_tensor(rgb_a_tensor).data.cpu().numpy()\n",
    "        #print (res_a.shape)\n",
    "        #print (res_a.dtype)\n",
    "\n",
    "        feature_map_filename = os.path.join(scene_feature_map_dir, str(img_a_idx)+'_feature.npy')\n",
    "        np.save(feature_map_filename, res_a)\n",
    "            \n"
   ]
  },
  {
   "cell_type": "code",
   "execution_count": null,
   "metadata": {},
   "outputs": [],
   "source": [
    "def load_feature(output_feature_map_folder, scene_name, img_a_idx):\n",
    "    \"\"\" load saved feature map \n",
    "    \"\"\"\n",
    "    feature_map_filename = os.path.join(output_feature_map_folder, scene_name, str(img_a_idx)+'_feature.npy')\n",
    "    read_back = np.load(feature_map_filename)\n",
    "    #print(read_back.shape)\n",
    "    #print(read_back.dtype)\n",
    "    return read_back\n"
   ]
  },
  {
   "cell_type": "code",
   "execution_count": null,
   "metadata": {},
   "outputs": [],
   "source": [
    "scene_name = \"2018-11-07-17-29-42\"\n",
    "output_feature_map_folder = \"/home/purplearrow/code/data_volume/pdc/feature_maps\"\n",
    "# please make sure this folder is created\n",
    "\n",
    "generate_feature_and_save(dataset, scene_name, dcn, output_feature_map_folder)\n",
    "load_res_a = load_feature(output_feature_map_folder, scene_name, 1)"
   ]
  },
  {
   "cell_type": "code",
   "execution_count": null,
   "metadata": {},
   "outputs": [],
   "source": []
  }
 ],
 "metadata": {
  "kernelspec": {
   "display_name": "Python 2",
   "language": "python",
   "name": "python2"
  },
  "language_info": {
   "codemirror_mode": {
    "name": "ipython",
    "version": 2
   },
   "file_extension": ".py",
   "mimetype": "text/x-python",
   "name": "python",
   "nbconvert_exporter": "python",
   "pygments_lexer": "ipython2",
   "version": "2.7.12"
  }
 },
 "nbformat": 4,
 "nbformat_minor": 2
}
