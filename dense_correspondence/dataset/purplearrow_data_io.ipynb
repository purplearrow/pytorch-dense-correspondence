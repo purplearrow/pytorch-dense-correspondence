{
 "cells": [
  {
   "cell_type": "code",
   "execution_count": null,
   "metadata": {},
   "outputs": [],
   "source": [
    "import numpy as np\n",
    "import cv2\n",
    "from matplotlib import pyplot as plt"
   ]
  },
  {
   "cell_type": "code",
   "execution_count": null,
   "metadata": {},
   "outputs": [],
   "source": [
    "## processed/images/000008_rgb.png\n",
    "img_rgb = cv2.imread('/media/purplearrow/data/DenseCorrespondenceShrinkTest/pdc/logs_proto/2018-04-16-14-25-19/processed/images/000008_rgb.png', cv2.IMREAD_UNCHANGED)\n",
    "print (img_rgb.dtype)\n",
    "print (img_rgb.shape)\n",
    "plt.imshow(img_rgb)"
   ]
  },
  {
   "cell_type": "code",
   "execution_count": null,
   "metadata": {},
   "outputs": [],
   "source": [
    "## processed/images/000008_depth.png\n",
    "img_depth = cv2.imread('/media/purplearrow/data/DenseCorrespondenceShrinkTest/pdc/logs_proto/2018-04-16-14-25-19/processed/images/000008_depth.png', cv2.IMREAD_UNCHANGED)\n",
    "print (img_depth.dtype)\n",
    "print (img_depth.shape)\n",
    "print (img_depth.max())\n",
    "plt.imshow(img_depth)"
   ]
  },
  {
   "cell_type": "code",
   "execution_count": null,
   "metadata": {},
   "outputs": [],
   "source": [
    "type(img_depth)"
   ]
  },
  {
   "cell_type": "code",
   "execution_count": null,
   "metadata": {},
   "outputs": [],
   "source": [
    "## processed/rendered_images/000008_depth.png\n",
    "img_rendered_depth = cv2.imread('/media/purplearrow/data/DenseCorrespondenceShrinkTest/pdc/logs_proto/2018-04-16-14-25-19/processed/rendered_images/000008_depth.png', cv2.IMREAD_UNCHANGED)\n",
    "print (img_rendered_depth.dtype)\n",
    "print (img_rendered_depth.shape)\n",
    "print (img_rendered_depth.max())\n",
    "plt.imshow(img_rendered_depth)"
   ]
  },
  {
   "cell_type": "code",
   "execution_count": null,
   "metadata": {},
   "outputs": [],
   "source": [
    "## processed/rendered_images/000008_depth_cropped.png\n",
    "img_rendered_depth_cropped = cv2.imread('/media/purplearrow/data/DenseCorrespondenceShrinkTest/pdc/logs_proto/2018-04-16-14-25-19/processed/_rendered_images/000008_depth_cropped.png', cv2.IMREAD_UNCHANGED)\n",
    "print (img_rendered_depth_cropped.dtype)\n",
    "print (img_rendered_depth_cropped.shape)\n",
    "print (img_rendered_depth_cropped.max())\n",
    "plt.imshow(img_rendered_depth_cropped)"
   ]
  },
  {
   "cell_type": "code",
   "execution_count": null,
   "metadata": {},
   "outputs": [],
   "source": [
    "## processed/image_masks/000008_mask.png\n",
    "img_mask = cv2.imread('/media/purplearrow/data/DenseCorrespondenceShrinkTest/pdc/logs_proto/2018-04-16-14-25-19/processed/image_masks/000008_mask.png', cv2.IMREAD_UNCHANGED)\n",
    "print (img_mask.dtype)\n",
    "print (img_mask.shape)\n",
    "print (img_mask.max())\n",
    "plt.imshow(img_mask)"
   ]
  },
  {
   "cell_type": "code",
   "execution_count": null,
   "metadata": {},
   "outputs": [],
   "source": [
    "## processed/image_masks/000008_visible_mask.png\n",
    "img_visible_mask = cv2.imread('/media/purplearrow/data/DenseCorrespondenceShrinkTest/pdc/logs_proto/2018-04-16-14-25-19/processed/image_masks/000008_visible_mask.png', cv2.IMREAD_UNCHANGED)\n",
    "print (img_visible_mask.dtype)\n",
    "print (img_visible_mask.shape)\n",
    "print (img_visible_mask.max())\n",
    "plt.imshow(img_mask)"
   ]
  },
  {
   "cell_type": "code",
   "execution_count": null,
   "metadata": {},
   "outputs": [],
   "source": [
    "## processed/rendered_images/000008_depth.png\n",
    "img_rgb_mine = cv2.imread('/media/purplearrow/data/DenseCorrespondenceShrinkTest/test/image_11.png', cv2.IMREAD_UNCHANGED)\n",
    "print (img_rgb_mine.dtype)\n",
    "print (img_rgb_mine.shape)\n",
    "print (img_rgb_mine.max())\n",
    "plt.imshow(img_rgb_mine)"
   ]
  },
  {
   "cell_type": "code",
   "execution_count": null,
   "metadata": {},
   "outputs": [],
   "source": [
    "## processed/rendered_images/000008_depth.png\n",
    "img_depth_mine = cv2.imread('/media/purplearrow/data/DenseCorrespondenceShrinkTest/test/depth_11.png', cv2.IMREAD_UNCHANGED)\n",
    "print (img_depth_mine.dtype)\n",
    "print (img_depth_mine.shape)\n",
    "print (img_depth_mine.max())\n",
    "plt.imshow(img_depth_mine)"
   ]
  }
 ],
 "metadata": {
  "kernelspec": {
   "display_name": "Python 2",
   "language": "python",
   "name": "python2"
  },
  "language_info": {
   "codemirror_mode": {
    "name": "ipython",
    "version": 2
   },
   "file_extension": ".py",
   "mimetype": "text/x-python",
   "name": "python",
   "nbconvert_exporter": "python",
   "pygments_lexer": "ipython2",
   "version": "2.7.12"
  }
 },
 "nbformat": 4,
 "nbformat_minor": 2
}
